{
 "cells": [
  {
   "cell_type": "code",
   "execution_count": 83,
   "metadata": {},
   "outputs": [],
   "source": [
    "import torch;\n",
    "from torchvision import datasets,transforms;\n",
    "from torch import nn;\n",
    "from torch import optim;"
   ]
  },
  {
   "cell_type": "code",
   "execution_count": 119,
   "metadata": {},
   "outputs": [],
   "source": [
    "transform = transforms.Compose([transforms.ToTensor(),transforms.Normalize((0.5,0.5,0.5),(0.5,0.5,0.5))]);\n",
    "trainset = datasets.MNIST('~/.pytorch/MNIST_data/', download = True, train=True, transform=transform);\n",
    "testset = datasets.MNIST('~/.pytorch/MNIST_data/',download = True,train=False,transform=transform);\n",
    "trainloader = torch.utils.data.DataLoader(trainset, batch_size=64, shuffle=True);\n",
    "testLoader = torch.utils.data.DataLoader(testset,batch_size=64,shuffle=True);"
   ]
  },
  {
   "cell_type": "raw",
   "metadata": {},
   "source": [
    "model= nn.Sequential(nn.Linear(784,256),\n",
    "                      nn.ReLU(),\n",
    "                      nn.Linear(256,128),\n",
    "                      nn.ReLU(),\n",
    "                      nn.Linear(128,64),\n",
    "                      nn.ReLU(),\n",
    "                      nn.Linear(64,10),\n",
    "                      nn.LogSoftmax(dim=1));"
   ]
  },
  {
   "cell_type": "code",
   "execution_count": 117,
   "metadata": {},
   "outputs": [],
   "source": [
    "model= nn.Sequential(nn.Linear(784,256),\n",
    "                      nn.ReLU(),\n",
    "                      nn.Linear(256,128),\n",
    "                      nn.ReLU(),\n",
    "                      nn.Linear(128,64),\n",
    "                      nn.ReLU(),\n",
    "                      nn.Linear(64,10),\n",
    "                      nn.LogSoftmax(dim=1));\n",
    "\n",
    "criterion = nn.CrossEntropyLoss();\n"
   ]
  },
  {
   "cell_type": "code",
   "execution_count": 87,
   "metadata": {},
   "outputs": [
    {
     "name": "stdout",
     "output_type": "stream",
     "text": [
      "tensor(2.3235, grad_fn=<NllLossBackward>)\n"
     ]
    }
   ],
   "source": [
    "images, labels = next(iter(trainloader));\n",
    "\n",
    "images = images.view(images.shape[0],-1);\n",
    "\n",
    "logits = model(images);\n",
    "\n",
    "loss = criterion(logits,labels);\n"
   ]
  },
  {
   "cell_type": "code",
   "execution_count": 123,
   "metadata": {},
   "outputs": [
    {
     "name": "stdout",
     "output_type": "stream",
     "text": [
      "0.7821912694015483\n",
      "0.28441430007550383\n",
      "0.20410071232759242\n",
      "0.1579611135154232\n",
      "0.12791791484991052\n"
     ]
    }
   ],
   "source": [
    "epochs = 5;\n",
    "\n",
    "optimizer = optim.SGD(model.parameters(),lr = 0.03);\n",
    "\n",
    "for e in range(epochs):\n",
    "    curr_loss = 0;\n",
    "    for images,labels in trainloader:\n",
    "        optimizer.zero_grad();\n",
    "        images = images.view(images.shape[0],-1);\n",
    "        logits = model.forward(images);\n",
    "        loss = criterion(logits,labels);\n",
    "        loss.backward();\n",
    "        optimizer.step();\n",
    "        curr_loss+=loss.item();\n",
    "    else:\n",
    "        print(curr_loss/len(trainloader));"
   ]
  },
  {
   "cell_type": "code",
   "execution_count": 122,
   "metadata": {},
   "outputs": [
    {
     "data": {
      "image/png": "[encoded data removed]",
      "text/plain": [
       "<Figure size 432x648 with 2 Axes>"
      ]
     },
     "metadata": {
      "needs_background": "light"
     },
     "output_type": "display_data"
    }
   ],
   "source": [
    "%matplotlib inline\n",
    "import helper;\n",
    "\n",
    "images,labels = next(iter(trainloader));\n",
    "image = images[0].view(1,-1);\n",
    "\n",
    "with torch.no_grad():\n",
    "    output = model(image);\n",
    "    \n",
    "ps = torch.exp(output);\n",
    "\n",
    "helper.view_classify(image.view(1,28,28),ps);\n",
    "    "
   ]
  },
  {
   "cell_type": "code",
   "execution_count": 141,
   "metadata": {},
   "outputs": [
    {
     "data": {
      "image/png": "[encoded data removed]",
      "text/plain": [
       "<Figure size 432x648 with 2 Axes>"
      ]
     },
     "metadata": {
      "needs_background": "light"
     },
     "output_type": "display_data"
    }
   ],
   "source": [
    "images,labels = next(iter(testLoader));\n",
    "\n",
    "image = images[0].view(1,-1);\n",
    "with torch.no_grad():\n",
    "    output = model(image);\n",
    "\n",
    "ps = torch.exp(output);\n",
    "\n",
    "helper.view_classify(image.view(1,28,28),ps);"
   ]
  },
  {
   "cell_type": "code",
   "execution_count": null,
   "metadata": {},
   "outputs": [],
   "source": []
  }
 ],
 "metadata": {
  "kernelspec": {
   "display_name": "Python 3",
   "language": "python",
   "name": "python3"
  },
  "language_info": {
   "codemirror_mode": {
    "name": "ipython",
    "version": 3
   },
   "file_extension": ".py",
   "mimetype": "text/x-python",
   "name": "python",
   "nbconvert_exporter": "python",
   "pygments_lexer": "ipython3",
   "version": "3.7.1"
  }
 },
 "nbformat": 4,
 "nbformat_minor": 2
}
